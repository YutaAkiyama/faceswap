{
  "cells": [
    {
      "cell_type": "markdown",
      "metadata": {
        "id": "view-in-github",
        "colab_type": "text"
      },
      "source": [
        "<a href=\"https://colab.research.google.com/github/YutaAkiyama/faceswap/blob/main/%E6%94%B9%E8%89%AF%E7%89%88_faceswap.ipynb\" target=\"_parent\"><img src=\"https://colab.research.google.com/assets/colab-badge.svg\" alt=\"Open In Colab\"/></a>"
      ]
    },
    {
      "cell_type": "markdown",
      "source": [
        "#GoogleDriveに接続"
      ],
      "metadata": {
        "id": "Om_feqy9iRQv"
      }
    },
    {
      "cell_type": "code",
      "source": [
        "from google.colab import drive\n",
        "drive.mount('/content/drive')"
      ],
      "metadata": {
        "colab": {
          "base_uri": "https://localhost:8080/"
        },
        "id": "fLWUEhHFiXw9",
        "outputId": "3d2d4cb2-5bcd-4135-a806-a0f8aa3ebc98"
      },
      "execution_count": 7,
      "outputs": [
        {
          "output_type": "stream",
          "name": "stdout",
          "text": [
            "Mounted at /content/drive\n"
          ]
        }
      ]
    },
    {
      "cell_type": "markdown",
      "metadata": {
        "id": "D3L8Lkyj-5gl"
      },
      "source": [
        "#初期設定"
      ]
    },
    {
      "cell_type": "code",
      "execution_count": 8,
      "metadata": {
        "id": "0aHr4Fo-7IRy",
        "colab": {
          "base_uri": "https://localhost:8080/"
        },
        "outputId": "738f6511-33d3-44c6-e5ac-378e515c4020"
      },
      "outputs": [
        {
          "output_type": "stream",
          "name": "stdout",
          "text": [
            "/content/drive/MyDrive\n",
            "Cloning into 'faceswap'...\n",
            "remote: Enumerating objects: 1471, done.\u001b[K\n",
            "remote: Total 1471 (delta 0), reused 0 (delta 0), pack-reused 1471\u001b[K\n",
            "Receiving objects: 100% (1471/1471), 90.80 MiB | 19.37 MiB/s, done.\n",
            "Resolving deltas: 100% (918/918), done.\n",
            "/content/drive/MyDrive/faceswap\n",
            "Looking in indexes: https://pypi.org/simple, https://download.pytorch.org/whl/cu118\n",
            "Ignoring torch: markers 'sys_platform == \"darwin\"' don't match your environment\n",
            "Ignoring torchvision: markers 'sys_platform == \"darwin\"' don't match your environment\n",
            "Ignoring onnxruntime: markers 'sys_platform == \"darwin\" and platform_machine != \"arm64\"' don't match your environment\n",
            "Ignoring onnxruntime-silicon: markers 'sys_platform == \"darwin\" and platform_machine == \"arm64\"' don't match your environment\n",
            "Ignoring tensorflow: markers 'sys_platform == \"darwin\"' don't match your environment\n",
            "Requirement already satisfied: numpy==1.23.5 in /usr/local/lib/python3.10/dist-packages (from -r requirements.txt (line 3)) (1.23.5)\n",
            "Requirement already satisfied: opencv-python==4.7.0.72 in /usr/local/lib/python3.10/dist-packages (from -r requirements.txt (line 4)) (4.7.0.72)\n",
            "Requirement already satisfied: onnx==1.14.0 in /usr/local/lib/python3.10/dist-packages (from -r requirements.txt (line 5)) (1.14.0)\n",
            "Requirement already satisfied: insightface==0.7.3 in /usr/local/lib/python3.10/dist-packages (from -r requirements.txt (line 6)) (0.7.3)\n",
            "Requirement already satisfied: psutil==5.9.5 in /usr/local/lib/python3.10/dist-packages (from -r requirements.txt (line 7)) (5.9.5)\n",
            "Requirement already satisfied: tk==0.1.0 in /usr/local/lib/python3.10/dist-packages (from -r requirements.txt (line 8)) (0.1.0)\n",
            "Requirement already satisfied: customtkinter==5.1.3 in /usr/local/lib/python3.10/dist-packages (from -r requirements.txt (line 9)) (5.1.3)\n",
            "Requirement already satisfied: pillow==9.5.0 in /usr/local/lib/python3.10/dist-packages (from -r requirements.txt (line 10)) (9.5.0)\n",
            "Requirement already satisfied: torch==2.0.1+cu118 in /usr/local/lib/python3.10/dist-packages (from -r requirements.txt (line 11)) (2.0.1+cu118)\n",
            "Requirement already satisfied: torchvision==0.15.2+cu118 in /usr/local/lib/python3.10/dist-packages (from -r requirements.txt (line 13)) (0.15.2+cu118)\n",
            "Requirement already satisfied: onnxruntime-gpu==1.15.0 in /usr/local/lib/python3.10/dist-packages (from -r requirements.txt (line 17)) (1.15.0)\n",
            "Requirement already satisfied: tensorflow==2.12.0 in /usr/local/lib/python3.10/dist-packages (from -r requirements.txt (line 19)) (2.12.0)\n",
            "Requirement already satisfied: opennsfw2==0.10.2 in /usr/local/lib/python3.10/dist-packages (from -r requirements.txt (line 20)) (0.10.2)\n",
            "Requirement already satisfied: protobuf==4.23.2 in /usr/local/lib/python3.10/dist-packages (from -r requirements.txt (line 21)) (4.23.2)\n",
            "Requirement already satisfied: tqdm==4.65.0 in /usr/local/lib/python3.10/dist-packages (from -r requirements.txt (line 22)) (4.65.0)\n",
            "Requirement already satisfied: gfpgan==1.3.8 in /usr/local/lib/python3.10/dist-packages (from -r requirements.txt (line 23)) (1.3.8)\n",
            "Requirement already satisfied: typing-extensions>=3.6.2.1 in /usr/local/lib/python3.10/dist-packages (from onnx==1.14.0->-r requirements.txt (line 5)) (4.5.0)\n",
            "Requirement already satisfied: requests in /usr/local/lib/python3.10/dist-packages (from insightface==0.7.3->-r requirements.txt (line 6)) (2.31.0)\n",
            "Requirement already satisfied: matplotlib in /usr/local/lib/python3.10/dist-packages (from insightface==0.7.3->-r requirements.txt (line 6)) (3.7.1)\n",
            "Requirement already satisfied: scipy in /usr/local/lib/python3.10/dist-packages (from insightface==0.7.3->-r requirements.txt (line 6)) (1.11.4)\n",
            "Requirement already satisfied: scikit-learn in /usr/local/lib/python3.10/dist-packages (from insightface==0.7.3->-r requirements.txt (line 6)) (1.2.2)\n",
            "Requirement already satisfied: scikit-image in /usr/local/lib/python3.10/dist-packages (from insightface==0.7.3->-r requirements.txt (line 6)) (0.19.3)\n",
            "Requirement already satisfied: easydict in /usr/local/lib/python3.10/dist-packages (from insightface==0.7.3->-r requirements.txt (line 6)) (1.11)\n",
            "Requirement already satisfied: cython in /usr/local/lib/python3.10/dist-packages (from insightface==0.7.3->-r requirements.txt (line 6)) (3.0.7)\n",
            "Requirement already satisfied: albumentations in /usr/local/lib/python3.10/dist-packages (from insightface==0.7.3->-r requirements.txt (line 6)) (1.3.1)\n",
            "Requirement already satisfied: prettytable in /usr/local/lib/python3.10/dist-packages (from insightface==0.7.3->-r requirements.txt (line 6)) (3.9.0)\n",
            "Requirement already satisfied: darkdetect in /usr/local/lib/python3.10/dist-packages (from customtkinter==5.1.3->-r requirements.txt (line 9)) (0.8.0)\n",
            "Requirement already satisfied: filelock in /usr/local/lib/python3.10/dist-packages (from torch==2.0.1+cu118->-r requirements.txt (line 11)) (3.13.1)\n",
            "Requirement already satisfied: sympy in /usr/local/lib/python3.10/dist-packages (from torch==2.0.1+cu118->-r requirements.txt (line 11)) (1.12)\n",
            "Requirement already satisfied: networkx in /usr/local/lib/python3.10/dist-packages (from torch==2.0.1+cu118->-r requirements.txt (line 11)) (3.2.1)\n",
            "Requirement already satisfied: jinja2 in /usr/local/lib/python3.10/dist-packages (from torch==2.0.1+cu118->-r requirements.txt (line 11)) (3.1.2)\n",
            "Requirement already satisfied: triton==2.0.0 in /usr/local/lib/python3.10/dist-packages (from torch==2.0.1+cu118->-r requirements.txt (line 11)) (2.0.0)\n",
            "Requirement already satisfied: coloredlogs in /usr/local/lib/python3.10/dist-packages (from onnxruntime-gpu==1.15.0->-r requirements.txt (line 17)) (15.0.1)\n",
            "Requirement already satisfied: flatbuffers in /usr/local/lib/python3.10/dist-packages (from onnxruntime-gpu==1.15.0->-r requirements.txt (line 17)) (23.5.26)\n",
            "Requirement already satisfied: packaging in /usr/local/lib/python3.10/dist-packages (from onnxruntime-gpu==1.15.0->-r requirements.txt (line 17)) (23.2)\n",
            "Requirement already satisfied: absl-py>=1.0.0 in /usr/local/lib/python3.10/dist-packages (from tensorflow==2.12.0->-r requirements.txt (line 19)) (1.4.0)\n",
            "Requirement already satisfied: astunparse>=1.6.0 in /usr/local/lib/python3.10/dist-packages (from tensorflow==2.12.0->-r requirements.txt (line 19)) (1.6.3)\n",
            "Requirement already satisfied: gast<=0.4.0,>=0.2.1 in /usr/local/lib/python3.10/dist-packages (from tensorflow==2.12.0->-r requirements.txt (line 19)) (0.4.0)\n",
            "Requirement already satisfied: google-pasta>=0.1.1 in /usr/local/lib/python3.10/dist-packages (from tensorflow==2.12.0->-r requirements.txt (line 19)) (0.2.0)\n",
            "Requirement already satisfied: grpcio<2.0,>=1.24.3 in /usr/local/lib/python3.10/dist-packages (from tensorflow==2.12.0->-r requirements.txt (line 19)) (1.60.0)\n",
            "Requirement already satisfied: h5py>=2.9.0 in /usr/local/lib/python3.10/dist-packages (from tensorflow==2.12.0->-r requirements.txt (line 19)) (3.9.0)\n",
            "Requirement already satisfied: jax>=0.3.15 in /usr/local/lib/python3.10/dist-packages (from tensorflow==2.12.0->-r requirements.txt (line 19)) (0.4.23)\n",
            "Requirement already satisfied: keras<2.13,>=2.12.0 in /usr/local/lib/python3.10/dist-packages (from tensorflow==2.12.0->-r requirements.txt (line 19)) (2.12.0)\n",
            "Requirement already satisfied: libclang>=13.0.0 in /usr/local/lib/python3.10/dist-packages (from tensorflow==2.12.0->-r requirements.txt (line 19)) (16.0.6)\n",
            "Requirement already satisfied: opt-einsum>=2.3.2 in /usr/local/lib/python3.10/dist-packages (from tensorflow==2.12.0->-r requirements.txt (line 19)) (3.3.0)\n",
            "Requirement already satisfied: setuptools in /usr/local/lib/python3.10/dist-packages (from tensorflow==2.12.0->-r requirements.txt (line 19)) (67.7.2)\n",
            "Requirement already satisfied: six>=1.12.0 in /usr/local/lib/python3.10/dist-packages (from tensorflow==2.12.0->-r requirements.txt (line 19)) (1.16.0)\n",
            "Requirement already satisfied: tensorboard<2.13,>=2.12 in /usr/local/lib/python3.10/dist-packages (from tensorflow==2.12.0->-r requirements.txt (line 19)) (2.12.3)\n",
            "Requirement already satisfied: tensorflow-estimator<2.13,>=2.12.0 in /usr/local/lib/python3.10/dist-packages (from tensorflow==2.12.0->-r requirements.txt (line 19)) (2.12.0)\n",
            "Requirement already satisfied: termcolor>=1.1.0 in /usr/local/lib/python3.10/dist-packages (from tensorflow==2.12.0->-r requirements.txt (line 19)) (2.4.0)\n",
            "Requirement already satisfied: wrapt<1.15,>=1.11.0 in /usr/local/lib/python3.10/dist-packages (from tensorflow==2.12.0->-r requirements.txt (line 19)) (1.14.1)\n",
            "Requirement already satisfied: tensorflow-io-gcs-filesystem>=0.23.1 in /usr/local/lib/python3.10/dist-packages (from tensorflow==2.12.0->-r requirements.txt (line 19)) (0.35.0)\n",
            "Requirement already satisfied: gdown>=4.2.0 in /usr/local/lib/python3.10/dist-packages (from opennsfw2==0.10.2->-r requirements.txt (line 20)) (4.6.6)\n",
            "Requirement already satisfied: basicsr>=1.4.2 in /usr/local/lib/python3.10/dist-packages (from gfpgan==1.3.8->-r requirements.txt (line 23)) (1.4.2)\n",
            "Requirement already satisfied: facexlib>=0.2.5 in /usr/local/lib/python3.10/dist-packages (from gfpgan==1.3.8->-r requirements.txt (line 23)) (0.3.0)\n",
            "Requirement already satisfied: lmdb in /usr/local/lib/python3.10/dist-packages (from gfpgan==1.3.8->-r requirements.txt (line 23)) (1.4.1)\n",
            "Requirement already satisfied: pyyaml in /usr/local/lib/python3.10/dist-packages (from gfpgan==1.3.8->-r requirements.txt (line 23)) (6.0.1)\n",
            "Requirement already satisfied: tb-nightly in /usr/local/lib/python3.10/dist-packages (from gfpgan==1.3.8->-r requirements.txt (line 23)) (2.16.0a20240106)\n",
            "Requirement already satisfied: yapf in /usr/local/lib/python3.10/dist-packages (from gfpgan==1.3.8->-r requirements.txt (line 23)) (0.40.2)\n",
            "Requirement already satisfied: cmake in /usr/local/lib/python3.10/dist-packages (from triton==2.0.0->torch==2.0.1+cu118->-r requirements.txt (line 11)) (3.27.9)\n",
            "Requirement already satisfied: lit in /usr/local/lib/python3.10/dist-packages (from triton==2.0.0->torch==2.0.1+cu118->-r requirements.txt (line 11)) (17.0.6)\n",
            "Requirement already satisfied: wheel<1.0,>=0.23.0 in /usr/local/lib/python3.10/dist-packages (from astunparse>=1.6.0->tensorflow==2.12.0->-r requirements.txt (line 19)) (0.42.0)\n",
            "Requirement already satisfied: addict in /usr/local/lib/python3.10/dist-packages (from basicsr>=1.4.2->gfpgan==1.3.8->-r requirements.txt (line 23)) (2.4.0)\n",
            "Requirement already satisfied: future in /usr/local/lib/python3.10/dist-packages (from basicsr>=1.4.2->gfpgan==1.3.8->-r requirements.txt (line 23)) (0.18.3)\n",
            "Requirement already satisfied: filterpy in /usr/local/lib/python3.10/dist-packages (from facexlib>=0.2.5->gfpgan==1.3.8->-r requirements.txt (line 23)) (1.4.5)\n",
            "Requirement already satisfied: numba in /usr/local/lib/python3.10/dist-packages (from facexlib>=0.2.5->gfpgan==1.3.8->-r requirements.txt (line 23)) (0.58.1)\n",
            "Requirement already satisfied: beautifulsoup4 in /usr/local/lib/python3.10/dist-packages (from gdown>=4.2.0->opennsfw2==0.10.2->-r requirements.txt (line 20)) (4.11.2)\n",
            "Requirement already satisfied: ml-dtypes>=0.2.0 in /usr/local/lib/python3.10/dist-packages (from jax>=0.3.15->tensorflow==2.12.0->-r requirements.txt (line 19)) (0.2.0)\n",
            "Requirement already satisfied: contourpy>=1.0.1 in /usr/local/lib/python3.10/dist-packages (from matplotlib->insightface==0.7.3->-r requirements.txt (line 6)) (1.2.0)\n",
            "Requirement already satisfied: cycler>=0.10 in /usr/local/lib/python3.10/dist-packages (from matplotlib->insightface==0.7.3->-r requirements.txt (line 6)) (0.12.1)\n",
            "Requirement already satisfied: fonttools>=4.22.0 in /usr/local/lib/python3.10/dist-packages (from matplotlib->insightface==0.7.3->-r requirements.txt (line 6)) (4.47.0)\n",
            "Requirement already satisfied: kiwisolver>=1.0.1 in /usr/local/lib/python3.10/dist-packages (from matplotlib->insightface==0.7.3->-r requirements.txt (line 6)) (1.4.5)\n",
            "Requirement already satisfied: pyparsing>=2.3.1 in /usr/local/lib/python3.10/dist-packages (from matplotlib->insightface==0.7.3->-r requirements.txt (line 6)) (3.1.1)\n",
            "Requirement already satisfied: python-dateutil>=2.7 in /usr/local/lib/python3.10/dist-packages (from matplotlib->insightface==0.7.3->-r requirements.txt (line 6)) (2.8.2)\n",
            "Requirement already satisfied: imageio>=2.4.1 in /usr/local/lib/python3.10/dist-packages (from scikit-image->insightface==0.7.3->-r requirements.txt (line 6)) (2.31.6)\n",
            "Requirement already satisfied: tifffile>=2019.7.26 in /usr/local/lib/python3.10/dist-packages (from scikit-image->insightface==0.7.3->-r requirements.txt (line 6)) (2023.12.9)\n",
            "Requirement already satisfied: PyWavelets>=1.1.1 in /usr/local/lib/python3.10/dist-packages (from scikit-image->insightface==0.7.3->-r requirements.txt (line 6)) (1.5.0)\n",
            "Requirement already satisfied: google-auth<3,>=1.6.3 in /usr/local/lib/python3.10/dist-packages (from tensorboard<2.13,>=2.12->tensorflow==2.12.0->-r requirements.txt (line 19)) (2.17.3)\n",
            "Requirement already satisfied: google-auth-oauthlib<1.1,>=0.5 in /usr/local/lib/python3.10/dist-packages (from tensorboard<2.13,>=2.12->tensorflow==2.12.0->-r requirements.txt (line 19)) (1.0.0)\n",
            "Requirement already satisfied: markdown>=2.6.8 in /usr/local/lib/python3.10/dist-packages (from tensorboard<2.13,>=2.12->tensorflow==2.12.0->-r requirements.txt (line 19)) (3.5.1)\n",
            "Requirement already satisfied: tensorboard-data-server<0.8.0,>=0.7.0 in /usr/local/lib/python3.10/dist-packages (from tensorboard<2.13,>=2.12->tensorflow==2.12.0->-r requirements.txt (line 19)) (0.7.2)\n",
            "Requirement already satisfied: werkzeug>=1.0.1 in /usr/local/lib/python3.10/dist-packages (from tensorboard<2.13,>=2.12->tensorflow==2.12.0->-r requirements.txt (line 19)) (3.0.1)\n",
            "Requirement already satisfied: charset-normalizer<4,>=2 in /usr/local/lib/python3.10/dist-packages (from requests->insightface==0.7.3->-r requirements.txt (line 6)) (3.3.2)\n",
            "Requirement already satisfied: idna<4,>=2.5 in /usr/local/lib/python3.10/dist-packages (from requests->insightface==0.7.3->-r requirements.txt (line 6)) (3.6)\n",
            "Requirement already satisfied: urllib3<3,>=1.21.1 in /usr/local/lib/python3.10/dist-packages (from requests->insightface==0.7.3->-r requirements.txt (line 6)) (2.0.7)\n",
            "Requirement already satisfied: certifi>=2017.4.17 in /usr/local/lib/python3.10/dist-packages (from requests->insightface==0.7.3->-r requirements.txt (line 6)) (2023.11.17)\n",
            "Requirement already satisfied: qudida>=0.0.4 in /usr/local/lib/python3.10/dist-packages (from albumentations->insightface==0.7.3->-r requirements.txt (line 6)) (0.0.4)\n",
            "Requirement already satisfied: opencv-python-headless>=4.1.1 in /usr/local/lib/python3.10/dist-packages (from albumentations->insightface==0.7.3->-r requirements.txt (line 6)) (4.8.1.78)\n",
            "Requirement already satisfied: humanfriendly>=9.1 in /usr/local/lib/python3.10/dist-packages (from coloredlogs->onnxruntime-gpu==1.15.0->-r requirements.txt (line 17)) (10.0)\n",
            "Requirement already satisfied: MarkupSafe>=2.0 in /usr/local/lib/python3.10/dist-packages (from jinja2->torch==2.0.1+cu118->-r requirements.txt (line 11)) (2.1.3)\n",
            "Requirement already satisfied: wcwidth in /usr/local/lib/python3.10/dist-packages (from prettytable->insightface==0.7.3->-r requirements.txt (line 6)) (0.2.12)\n",
            "Requirement already satisfied: joblib>=1.1.1 in /usr/local/lib/python3.10/dist-packages (from scikit-learn->insightface==0.7.3->-r requirements.txt (line 6)) (1.3.2)\n",
            "Requirement already satisfied: threadpoolctl>=2.0.0 in /usr/local/lib/python3.10/dist-packages (from scikit-learn->insightface==0.7.3->-r requirements.txt (line 6)) (3.2.0)\n",
            "Requirement already satisfied: mpmath>=0.19 in /usr/local/lib/python3.10/dist-packages (from sympy->torch==2.0.1+cu118->-r requirements.txt (line 11)) (1.3.0)\n",
            "Requirement already satisfied: tf-keras-nightly in /usr/local/lib/python3.10/dist-packages (from tb-nightly->gfpgan==1.3.8->-r requirements.txt (line 23)) (2.16.0.dev2024010610)\n",
            "Requirement already satisfied: importlib-metadata>=6.6.0 in /usr/local/lib/python3.10/dist-packages (from yapf->gfpgan==1.3.8->-r requirements.txt (line 23)) (7.0.0)\n",
            "Requirement already satisfied: platformdirs>=3.5.1 in /usr/local/lib/python3.10/dist-packages (from yapf->gfpgan==1.3.8->-r requirements.txt (line 23)) (4.1.0)\n",
            "Requirement already satisfied: tomli>=2.0.1 in /usr/local/lib/python3.10/dist-packages (from yapf->gfpgan==1.3.8->-r requirements.txt (line 23)) (2.0.1)\n",
            "Requirement already satisfied: cachetools<6.0,>=2.0.0 in /usr/local/lib/python3.10/dist-packages (from google-auth<3,>=1.6.3->tensorboard<2.13,>=2.12->tensorflow==2.12.0->-r requirements.txt (line 19)) (5.3.2)\n",
            "Requirement already satisfied: pyasn1-modules>=0.2.1 in /usr/local/lib/python3.10/dist-packages (from google-auth<3,>=1.6.3->tensorboard<2.13,>=2.12->tensorflow==2.12.0->-r requirements.txt (line 19)) (0.3.0)\n",
            "Requirement already satisfied: rsa<5,>=3.1.4 in /usr/local/lib/python3.10/dist-packages (from google-auth<3,>=1.6.3->tensorboard<2.13,>=2.12->tensorflow==2.12.0->-r requirements.txt (line 19)) (4.9)\n",
            "Requirement already satisfied: requests-oauthlib>=0.7.0 in /usr/local/lib/python3.10/dist-packages (from google-auth-oauthlib<1.1,>=0.5->tensorboard<2.13,>=2.12->tensorflow==2.12.0->-r requirements.txt (line 19)) (1.3.1)\n",
            "Requirement already satisfied: zipp>=0.5 in /usr/local/lib/python3.10/dist-packages (from importlib-metadata>=6.6.0->yapf->gfpgan==1.3.8->-r requirements.txt (line 23)) (3.17.0)\n",
            "Requirement already satisfied: soupsieve>1.2 in /usr/local/lib/python3.10/dist-packages (from beautifulsoup4->gdown>=4.2.0->opennsfw2==0.10.2->-r requirements.txt (line 20)) (2.5)\n",
            "Requirement already satisfied: llvmlite<0.42,>=0.41.0dev0 in /usr/local/lib/python3.10/dist-packages (from numba->facexlib>=0.2.5->gfpgan==1.3.8->-r requirements.txt (line 23)) (0.41.1)\n",
            "Requirement already satisfied: PySocks!=1.5.7,>=1.5.6 in /usr/local/lib/python3.10/dist-packages (from requests->insightface==0.7.3->-r requirements.txt (line 6)) (1.7.1)\n",
            "Requirement already satisfied: pyasn1<0.6.0,>=0.4.6 in /usr/local/lib/python3.10/dist-packages (from pyasn1-modules>=0.2.1->google-auth<3,>=1.6.3->tensorboard<2.13,>=2.12->tensorflow==2.12.0->-r requirements.txt (line 19)) (0.5.1)\n",
            "Requirement already satisfied: oauthlib>=3.0.0 in /usr/local/lib/python3.10/dist-packages (from requests-oauthlib>=0.7.0->google-auth-oauthlib<1.1,>=0.5->tensorboard<2.13,>=2.12->tensorflow==2.12.0->-r requirements.txt (line 19)) (3.2.2)\n"
          ]
        }
      ],
      "source": [
        "%cd /content/drive/MyDrive\n",
        "!git clone https://github.com/YutaAkiyama/faceswap.git\n",
        "%cd faceswap\n",
        "!pip install -r requirements.txt"
      ]
    },
    {
      "cell_type": "markdown",
      "metadata": {
        "id": "jl9zIFZYGWTQ"
      },
      "source": [
        "#モデルのダウンロード"
      ]
    },
    {
      "cell_type": "code",
      "source": [
        "!wget -P gfpgan/weights https://huggingface.co/yutaakiyama/inswapper_128.onnx/resolve/main/detection_Resnet50_Final.pth --content-disposition --continue\n",
        "!wget -P gfpgan/weights https://huggingface.co/yutaakiyama/inswapper_128.onnx/resolve/main/parsing_parsenet.pth --content-disposition --continue\n",
        "!wget -P models https://huggingface.co/yutaakiyama/inswapper_128.onnx/resolve/main/inswapper_128.onnx --content-disposition --continue\n",
        "!wget -P models https://huggingface.co/yutaakiyama/inswapper_128.onnx/resolve/main/GFPGANv1.4.pth --content-disposition --continue"
      ],
      "metadata": {
        "colab": {
          "base_uri": "https://localhost:8080/"
        },
        "id": "2fVIip1QoRY8",
        "outputId": "4839d705-437a-44f1-8d9f-26cdb732bcb9"
      },
      "execution_count": 12,
      "outputs": [
        {
          "output_type": "stream",
          "name": "stdout",
          "text": [
            "--2024-01-06 16:33:09--  https://huggingface.co/yutaakiyama/inswapper_128.onnx/resolve/main/detection_Resnet50_Final.pth\n",
            "Resolving huggingface.co (huggingface.co)... 18.172.134.24, 18.172.134.4, 18.172.134.124, ...\n",
            "Connecting to huggingface.co (huggingface.co)|18.172.134.24|:443... connected.\n",
            "HTTP request sent, awaiting response... 302 Found\n",
            "Location: https://cdn-lfs-us-1.huggingface.co/repos/75/f4/75f48ae56a41f428fddfe65487b97dbe1ad8436c8c4132ce4b5548751f2a07da/6d1de9c2944f2ccddca5f5e010ea5ae64a39845a86311af6fdf30841b0a5a16d?response-content-disposition=attachment%3B+filename*%3DUTF-8%27%27detection_Resnet50_Final.pth%3B+filename%3D%22detection_Resnet50_Final.pth%22%3B&Expires=1704817989&Policy=eyJTdGF0ZW1lbnQiOlt7IkNvbmRpdGlvbiI6eyJEYXRlTGVzc1RoYW4iOnsiQVdTOkVwb2NoVGltZSI6MTcwNDgxNzk4OX19LCJSZXNvdXJjZSI6Imh0dHBzOi8vY2RuLWxmcy11cy0xLmh1Z2dpbmdmYWNlLmNvL3JlcG9zLzc1L2Y0Lzc1ZjQ4YWU1NmE0MWY0MjhmZGRmZTY1NDg3Yjk3ZGJlMWFkODQzNmM4YzQxMzJjZTRiNTU0ODc1MWYyYTA3ZGEvNmQxZGU5YzI5NDRmMmNjZGRjYTVmNWUwMTBlYTVhZTY0YTM5ODQ1YTg2MzExYWY2ZmRmMzA4NDFiMGE1YTE2ZD9yZXNwb25zZS1jb250ZW50LWRpc3Bvc2l0aW9uPSoifV19&Signature=Rul96xu1AHp8mBFFQSYPWMr3FnT0%7EiMRCfX8iD68uZ2mmWXZEdrcbzDQmnEUbFteB1pjdxpDRPi1VSnPkoPERaCXABaRkXy882bYHsgIjF5QHaVFwAlzWGYY8dETqpPjewkDCUUrAV4t2orZrV1-e79SU41gdwX6VygrcxepYhmaBJBbQ3aMLnavltYShAOWCuEXsZFqmrM%7EriJpSbj84mX1NIU0qLHMFYVDTYrP19nbe9RSsDQXkqg5%7EzrjfxwlKyfITfuNdohn676XtaSBOuTHLORnkZdwFt2YnSx4FLh2jQrX01mp9oQFGZb2U1S8Xz34fOZsGpHqtoiULkyiAg__&Key-Pair-Id=KCD77M1F0VK2B [following]\n",
            "--2024-01-06 16:33:09--  https://cdn-lfs-us-1.huggingface.co/repos/75/f4/75f48ae56a41f428fddfe65487b97dbe1ad8436c8c4132ce4b5548751f2a07da/6d1de9c2944f2ccddca5f5e010ea5ae64a39845a86311af6fdf30841b0a5a16d?response-content-disposition=attachment%3B+filename*%3DUTF-8%27%27detection_Resnet50_Final.pth%3B+filename%3D%22detection_Resnet50_Final.pth%22%3B&Expires=1704817989&Policy=eyJTdGF0ZW1lbnQiOlt7IkNvbmRpdGlvbiI6eyJEYXRlTGVzc1RoYW4iOnsiQVdTOkVwb2NoVGltZSI6MTcwNDgxNzk4OX19LCJSZXNvdXJjZSI6Imh0dHBzOi8vY2RuLWxmcy11cy0xLmh1Z2dpbmdmYWNlLmNvL3JlcG9zLzc1L2Y0Lzc1ZjQ4YWU1NmE0MWY0MjhmZGRmZTY1NDg3Yjk3ZGJlMWFkODQzNmM4YzQxMzJjZTRiNTU0ODc1MWYyYTA3ZGEvNmQxZGU5YzI5NDRmMmNjZGRjYTVmNWUwMTBlYTVhZTY0YTM5ODQ1YTg2MzExYWY2ZmRmMzA4NDFiMGE1YTE2ZD9yZXNwb25zZS1jb250ZW50LWRpc3Bvc2l0aW9uPSoifV19&Signature=Rul96xu1AHp8mBFFQSYPWMr3FnT0%7EiMRCfX8iD68uZ2mmWXZEdrcbzDQmnEUbFteB1pjdxpDRPi1VSnPkoPERaCXABaRkXy882bYHsgIjF5QHaVFwAlzWGYY8dETqpPjewkDCUUrAV4t2orZrV1-e79SU41gdwX6VygrcxepYhmaBJBbQ3aMLnavltYShAOWCuEXsZFqmrM%7EriJpSbj84mX1NIU0qLHMFYVDTYrP19nbe9RSsDQXkqg5%7EzrjfxwlKyfITfuNdohn676XtaSBOuTHLORnkZdwFt2YnSx4FLh2jQrX01mp9oQFGZb2U1S8Xz34fOZsGpHqtoiULkyiAg__&Key-Pair-Id=KCD77M1F0VK2B\n",
            "Resolving cdn-lfs-us-1.huggingface.co (cdn-lfs-us-1.huggingface.co)... 108.156.107.29, 108.156.107.44, 108.156.107.49, ...\n",
            "Connecting to cdn-lfs-us-1.huggingface.co (cdn-lfs-us-1.huggingface.co)|108.156.107.29|:443... connected.\n",
            "HTTP request sent, awaiting response... 200 OK\n",
            "Length: 109497761 (104M) [binary/octet-stream]\n",
            "--2024-01-06 16:33:09--  https://cdn-lfs-us-1.huggingface.co/repos/75/f4/75f48ae56a41f428fddfe65487b97dbe1ad8436c8c4132ce4b5548751f2a07da/6d1de9c2944f2ccddca5f5e010ea5ae64a39845a86311af6fdf30841b0a5a16d?response-content-disposition=attachment%3B+filename*%3DUTF-8%27%27detection_Resnet50_Final.pth%3B+filename%3D%22detection_Resnet50_Final.pth%22%3B&Expires=1704817989&Policy=eyJTdGF0ZW1lbnQiOlt7IkNvbmRpdGlvbiI6eyJEYXRlTGVzc1RoYW4iOnsiQVdTOkVwb2NoVGltZSI6MTcwNDgxNzk4OX19LCJSZXNvdXJjZSI6Imh0dHBzOi8vY2RuLWxmcy11cy0xLmh1Z2dpbmdmYWNlLmNvL3JlcG9zLzc1L2Y0Lzc1ZjQ4YWU1NmE0MWY0MjhmZGRmZTY1NDg3Yjk3ZGJlMWFkODQzNmM4YzQxMzJjZTRiNTU0ODc1MWYyYTA3ZGEvNmQxZGU5YzI5NDRmMmNjZGRjYTVmNWUwMTBlYTVhZTY0YTM5ODQ1YTg2MzExYWY2ZmRmMzA4NDFiMGE1YTE2ZD9yZXNwb25zZS1jb250ZW50LWRpc3Bvc2l0aW9uPSoifV19&Signature=Rul96xu1AHp8mBFFQSYPWMr3FnT0%7EiMRCfX8iD68uZ2mmWXZEdrcbzDQmnEUbFteB1pjdxpDRPi1VSnPkoPERaCXABaRkXy882bYHsgIjF5QHaVFwAlzWGYY8dETqpPjewkDCUUrAV4t2orZrV1-e79SU41gdwX6VygrcxepYhmaBJBbQ3aMLnavltYShAOWCuEXsZFqmrM%7EriJpSbj84mX1NIU0qLHMFYVDTYrP19nbe9RSsDQXkqg5%7EzrjfxwlKyfITfuNdohn676XtaSBOuTHLORnkZdwFt2YnSx4FLh2jQrX01mp9oQFGZb2U1S8Xz34fOZsGpHqtoiULkyiAg__&Key-Pair-Id=KCD77M1F0VK2B\n",
            "Reusing existing connection to cdn-lfs-us-1.huggingface.co:443.\n",
            "HTTP request sent, awaiting response... 200 OK\n",
            "Length: 109497761 (104M) [binary/octet-stream]\n",
            "Saving to: ‘gfpgan/weights/detection_Resnet50_Final.pth’\n",
            "\n",
            "detection_Resnet50_ 100%[===================>] 104.42M  55.6MB/s    in 1.9s    \n",
            "\n",
            "2024-01-06 16:33:11 (55.6 MB/s) - ‘gfpgan/weights/detection_Resnet50_Final.pth’ saved [109497761/109497761]\n",
            "\n",
            "--2024-01-06 16:33:11--  https://huggingface.co/yutaakiyama/inswapper_128.onnx/resolve/main/parsing_parsenet.pth\n",
            "Resolving huggingface.co (huggingface.co)... 18.172.134.24, 18.172.134.4, 18.172.134.124, ...\n",
            "Connecting to huggingface.co (huggingface.co)|18.172.134.24|:443... connected.\n",
            "HTTP request sent, awaiting response... 302 Found\n",
            "Location: https://cdn-lfs-us-1.huggingface.co/repos/75/f4/75f48ae56a41f428fddfe65487b97dbe1ad8436c8c4132ce4b5548751f2a07da/3d558d8d0e42c20224f13cf5a29c79eba2d59913419f945545d8cf7b72920de2?response-content-disposition=attachment%3B+filename*%3DUTF-8%27%27parsing_parsenet.pth%3B+filename%3D%22parsing_parsenet.pth%22%3B&Expires=1704817991&Policy=eyJTdGF0ZW1lbnQiOlt7IkNvbmRpdGlvbiI6eyJEYXRlTGVzc1RoYW4iOnsiQVdTOkVwb2NoVGltZSI6MTcwNDgxNzk5MX19LCJSZXNvdXJjZSI6Imh0dHBzOi8vY2RuLWxmcy11cy0xLmh1Z2dpbmdmYWNlLmNvL3JlcG9zLzc1L2Y0Lzc1ZjQ4YWU1NmE0MWY0MjhmZGRmZTY1NDg3Yjk3ZGJlMWFkODQzNmM4YzQxMzJjZTRiNTU0ODc1MWYyYTA3ZGEvM2Q1NThkOGQwZTQyYzIwMjI0ZjEzY2Y1YTI5Yzc5ZWJhMmQ1OTkxMzQxOWY5NDU1NDVkOGNmN2I3MjkyMGRlMj9yZXNwb25zZS1jb250ZW50LWRpc3Bvc2l0aW9uPSoifV19&Signature=hbGyjhe-bw-GvNmmI05I1GoTSSQ2mfSODE9I8JS8iWTPj7eiIiQWVZCbJ2IJ0BkNjt5n1PZC94GS6fx0UUTDEHrGHenserzzzlJjD3kZW9KpeZs5aj22slqaGFHNe9T-SHxl7idSH%7EC5CS5MfY7bQvXlaF1w67Mdxw6iqKFjZyEYZUbjxJhKdAjpjs3qONcJdM2DV9zn9dxzHMz0j1l1jGxXlqKk8eijhXmOdG6YoqVEdlvvqliSOMgPenNQ1ibXPSj3rP6msXGzRrrV8vlp%7EJO1b8YLhXn2RfGPh2BZfLSGzTsijx3ycjaGfbS6oz0UzR-%7EAQzsN-iZV5sCl-8uPQ__&Key-Pair-Id=KCD77M1F0VK2B [following]\n",
            "--2024-01-06 16:33:11--  https://cdn-lfs-us-1.huggingface.co/repos/75/f4/75f48ae56a41f428fddfe65487b97dbe1ad8436c8c4132ce4b5548751f2a07da/3d558d8d0e42c20224f13cf5a29c79eba2d59913419f945545d8cf7b72920de2?response-content-disposition=attachment%3B+filename*%3DUTF-8%27%27parsing_parsenet.pth%3B+filename%3D%22parsing_parsenet.pth%22%3B&Expires=1704817991&Policy=eyJTdGF0ZW1lbnQiOlt7IkNvbmRpdGlvbiI6eyJEYXRlTGVzc1RoYW4iOnsiQVdTOkVwb2NoVGltZSI6MTcwNDgxNzk5MX19LCJSZXNvdXJjZSI6Imh0dHBzOi8vY2RuLWxmcy11cy0xLmh1Z2dpbmdmYWNlLmNvL3JlcG9zLzc1L2Y0Lzc1ZjQ4YWU1NmE0MWY0MjhmZGRmZTY1NDg3Yjk3ZGJlMWFkODQzNmM4YzQxMzJjZTRiNTU0ODc1MWYyYTA3ZGEvM2Q1NThkOGQwZTQyYzIwMjI0ZjEzY2Y1YTI5Yzc5ZWJhMmQ1OTkxMzQxOWY5NDU1NDVkOGNmN2I3MjkyMGRlMj9yZXNwb25zZS1jb250ZW50LWRpc3Bvc2l0aW9uPSoifV19&Signature=hbGyjhe-bw-GvNmmI05I1GoTSSQ2mfSODE9I8JS8iWTPj7eiIiQWVZCbJ2IJ0BkNjt5n1PZC94GS6fx0UUTDEHrGHenserzzzlJjD3kZW9KpeZs5aj22slqaGFHNe9T-SHxl7idSH%7EC5CS5MfY7bQvXlaF1w67Mdxw6iqKFjZyEYZUbjxJhKdAjpjs3qONcJdM2DV9zn9dxzHMz0j1l1jGxXlqKk8eijhXmOdG6YoqVEdlvvqliSOMgPenNQ1ibXPSj3rP6msXGzRrrV8vlp%7EJO1b8YLhXn2RfGPh2BZfLSGzTsijx3ycjaGfbS6oz0UzR-%7EAQzsN-iZV5sCl-8uPQ__&Key-Pair-Id=KCD77M1F0VK2B\n",
            "Resolving cdn-lfs-us-1.huggingface.co (cdn-lfs-us-1.huggingface.co)... 108.156.107.29, 108.156.107.44, 108.156.107.49, ...\n",
            "Connecting to cdn-lfs-us-1.huggingface.co (cdn-lfs-us-1.huggingface.co)|108.156.107.29|:443... connected.\n",
            "HTTP request sent, awaiting response... 200 OK\n",
            "Length: 85331193 (81M) [binary/octet-stream]\n",
            "--2024-01-06 16:33:11--  https://cdn-lfs-us-1.huggingface.co/repos/75/f4/75f48ae56a41f428fddfe65487b97dbe1ad8436c8c4132ce4b5548751f2a07da/3d558d8d0e42c20224f13cf5a29c79eba2d59913419f945545d8cf7b72920de2?response-content-disposition=attachment%3B+filename*%3DUTF-8%27%27parsing_parsenet.pth%3B+filename%3D%22parsing_parsenet.pth%22%3B&Expires=1704817991&Policy=eyJTdGF0ZW1lbnQiOlt7IkNvbmRpdGlvbiI6eyJEYXRlTGVzc1RoYW4iOnsiQVdTOkVwb2NoVGltZSI6MTcwNDgxNzk5MX19LCJSZXNvdXJjZSI6Imh0dHBzOi8vY2RuLWxmcy11cy0xLmh1Z2dpbmdmYWNlLmNvL3JlcG9zLzc1L2Y0Lzc1ZjQ4YWU1NmE0MWY0MjhmZGRmZTY1NDg3Yjk3ZGJlMWFkODQzNmM4YzQxMzJjZTRiNTU0ODc1MWYyYTA3ZGEvM2Q1NThkOGQwZTQyYzIwMjI0ZjEzY2Y1YTI5Yzc5ZWJhMmQ1OTkxMzQxOWY5NDU1NDVkOGNmN2I3MjkyMGRlMj9yZXNwb25zZS1jb250ZW50LWRpc3Bvc2l0aW9uPSoifV19&Signature=hbGyjhe-bw-GvNmmI05I1GoTSSQ2mfSODE9I8JS8iWTPj7eiIiQWVZCbJ2IJ0BkNjt5n1PZC94GS6fx0UUTDEHrGHenserzzzlJjD3kZW9KpeZs5aj22slqaGFHNe9T-SHxl7idSH%7EC5CS5MfY7bQvXlaF1w67Mdxw6iqKFjZyEYZUbjxJhKdAjpjs3qONcJdM2DV9zn9dxzHMz0j1l1jGxXlqKk8eijhXmOdG6YoqVEdlvvqliSOMgPenNQ1ibXPSj3rP6msXGzRrrV8vlp%7EJO1b8YLhXn2RfGPh2BZfLSGzTsijx3ycjaGfbS6oz0UzR-%7EAQzsN-iZV5sCl-8uPQ__&Key-Pair-Id=KCD77M1F0VK2B\n",
            "Reusing existing connection to cdn-lfs-us-1.huggingface.co:443.\n",
            "HTTP request sent, awaiting response... 200 OK\n",
            "Length: 85331193 (81M) [binary/octet-stream]\n",
            "Saving to: ‘gfpgan/weights/parsing_parsenet.pth’\n",
            "\n",
            "parsing_parsenet.pt 100%[===================>]  81.38M  54.1MB/s    in 1.5s    \n",
            "\n",
            "2024-01-06 16:33:13 (54.1 MB/s) - ‘gfpgan/weights/parsing_parsenet.pth’ saved [85331193/85331193]\n",
            "\n",
            "--2024-01-06 16:33:13--  https://huggingface.co/yutaakiyama/inswapper_128.onnx/resolve/main/inswapper_128.onnx\n",
            "Resolving huggingface.co (huggingface.co)... 18.172.134.24, 18.172.134.4, 18.172.134.124, ...\n",
            "Connecting to huggingface.co (huggingface.co)|18.172.134.24|:443... connected.\n",
            "HTTP request sent, awaiting response... 302 Found\n",
            "Location: https://cdn-lfs-us-1.huggingface.co/repos/75/f4/75f48ae56a41f428fddfe65487b97dbe1ad8436c8c4132ce4b5548751f2a07da/e4a3f08c753cb72d04e10aa0f7dbe3deebbf39567d4ead6dce08e98aa49e16af?response-content-disposition=attachment%3B+filename*%3DUTF-8%27%27inswapper_128.onnx%3B+filename%3D%22inswapper_128.onnx%22%3B&Expires=1704815225&Policy=eyJTdGF0ZW1lbnQiOlt7IkNvbmRpdGlvbiI6eyJEYXRlTGVzc1RoYW4iOnsiQVdTOkVwb2NoVGltZSI6MTcwNDgxNTIyNX19LCJSZXNvdXJjZSI6Imh0dHBzOi8vY2RuLWxmcy11cy0xLmh1Z2dpbmdmYWNlLmNvL3JlcG9zLzc1L2Y0Lzc1ZjQ4YWU1NmE0MWY0MjhmZGRmZTY1NDg3Yjk3ZGJlMWFkODQzNmM4YzQxMzJjZTRiNTU0ODc1MWYyYTA3ZGEvZTRhM2YwOGM3NTNjYjcyZDA0ZTEwYWEwZjdkYmUzZGVlYmJmMzk1NjdkNGVhZDZkY2UwOGU5OGFhNDllMTZhZj9yZXNwb25zZS1jb250ZW50LWRpc3Bvc2l0aW9uPSoifV19&Signature=RNfkFf-HH3nxAwXCJBjtJnLNSxqzQHBhfgeiFL7TfhMugn%7EqrAX8wNyA8jogXxqWqZm-C11itgdeCuwZtuPapVbsZzplQobDVTlD%7EORWRdWpbZJ-28xCKVgnz5fE7CBPBjwjDdwf1wL8pw8rg4SFuIApKNHGRQF%7E3bh%7ERHGQ8qbEDVrgMJhltEFT79mfqBTQne4TZasmy9R7b2p-z32v3WAyEaKmR6mroYOCdKdbEXu-Qn9yDAnrenQU9nZTaxDFCdN-nLolRvRV8b7asrCtWrxStAn9XEl17ozSPrjikEjulg311PBy75DUvrqjxfe2lkCPSK8fZ5NbyRgpIPC16g__&Key-Pair-Id=KCD77M1F0VK2B [following]\n",
            "--2024-01-06 16:33:13--  https://cdn-lfs-us-1.huggingface.co/repos/75/f4/75f48ae56a41f428fddfe65487b97dbe1ad8436c8c4132ce4b5548751f2a07da/e4a3f08c753cb72d04e10aa0f7dbe3deebbf39567d4ead6dce08e98aa49e16af?response-content-disposition=attachment%3B+filename*%3DUTF-8%27%27inswapper_128.onnx%3B+filename%3D%22inswapper_128.onnx%22%3B&Expires=1704815225&Policy=eyJTdGF0ZW1lbnQiOlt7IkNvbmRpdGlvbiI6eyJEYXRlTGVzc1RoYW4iOnsiQVdTOkVwb2NoVGltZSI6MTcwNDgxNTIyNX19LCJSZXNvdXJjZSI6Imh0dHBzOi8vY2RuLWxmcy11cy0xLmh1Z2dpbmdmYWNlLmNvL3JlcG9zLzc1L2Y0Lzc1ZjQ4YWU1NmE0MWY0MjhmZGRmZTY1NDg3Yjk3ZGJlMWFkODQzNmM4YzQxMzJjZTRiNTU0ODc1MWYyYTA3ZGEvZTRhM2YwOGM3NTNjYjcyZDA0ZTEwYWEwZjdkYmUzZGVlYmJmMzk1NjdkNGVhZDZkY2UwOGU5OGFhNDllMTZhZj9yZXNwb25zZS1jb250ZW50LWRpc3Bvc2l0aW9uPSoifV19&Signature=RNfkFf-HH3nxAwXCJBjtJnLNSxqzQHBhfgeiFL7TfhMugn%7EqrAX8wNyA8jogXxqWqZm-C11itgdeCuwZtuPapVbsZzplQobDVTlD%7EORWRdWpbZJ-28xCKVgnz5fE7CBPBjwjDdwf1wL8pw8rg4SFuIApKNHGRQF%7E3bh%7ERHGQ8qbEDVrgMJhltEFT79mfqBTQne4TZasmy9R7b2p-z32v3WAyEaKmR6mroYOCdKdbEXu-Qn9yDAnrenQU9nZTaxDFCdN-nLolRvRV8b7asrCtWrxStAn9XEl17ozSPrjikEjulg311PBy75DUvrqjxfe2lkCPSK8fZ5NbyRgpIPC16g__&Key-Pair-Id=KCD77M1F0VK2B\n",
            "Resolving cdn-lfs-us-1.huggingface.co (cdn-lfs-us-1.huggingface.co)... 108.156.107.29, 108.156.107.44, 108.156.107.49, ...\n",
            "Connecting to cdn-lfs-us-1.huggingface.co (cdn-lfs-us-1.huggingface.co)|108.156.107.29|:443... connected.\n",
            "HTTP request sent, awaiting response... 200 OK\n",
            "Length: 554253681 (529M) [binary/octet-stream]\n",
            "--2024-01-06 16:33:13--  https://cdn-lfs-us-1.huggingface.co/repos/75/f4/75f48ae56a41f428fddfe65487b97dbe1ad8436c8c4132ce4b5548751f2a07da/e4a3f08c753cb72d04e10aa0f7dbe3deebbf39567d4ead6dce08e98aa49e16af?response-content-disposition=attachment%3B+filename*%3DUTF-8%27%27inswapper_128.onnx%3B+filename%3D%22inswapper_128.onnx%22%3B&Expires=1704815225&Policy=eyJTdGF0ZW1lbnQiOlt7IkNvbmRpdGlvbiI6eyJEYXRlTGVzc1RoYW4iOnsiQVdTOkVwb2NoVGltZSI6MTcwNDgxNTIyNX19LCJSZXNvdXJjZSI6Imh0dHBzOi8vY2RuLWxmcy11cy0xLmh1Z2dpbmdmYWNlLmNvL3JlcG9zLzc1L2Y0Lzc1ZjQ4YWU1NmE0MWY0MjhmZGRmZTY1NDg3Yjk3ZGJlMWFkODQzNmM4YzQxMzJjZTRiNTU0ODc1MWYyYTA3ZGEvZTRhM2YwOGM3NTNjYjcyZDA0ZTEwYWEwZjdkYmUzZGVlYmJmMzk1NjdkNGVhZDZkY2UwOGU5OGFhNDllMTZhZj9yZXNwb25zZS1jb250ZW50LWRpc3Bvc2l0aW9uPSoifV19&Signature=RNfkFf-HH3nxAwXCJBjtJnLNSxqzQHBhfgeiFL7TfhMugn%7EqrAX8wNyA8jogXxqWqZm-C11itgdeCuwZtuPapVbsZzplQobDVTlD%7EORWRdWpbZJ-28xCKVgnz5fE7CBPBjwjDdwf1wL8pw8rg4SFuIApKNHGRQF%7E3bh%7ERHGQ8qbEDVrgMJhltEFT79mfqBTQne4TZasmy9R7b2p-z32v3WAyEaKmR6mroYOCdKdbEXu-Qn9yDAnrenQU9nZTaxDFCdN-nLolRvRV8b7asrCtWrxStAn9XEl17ozSPrjikEjulg311PBy75DUvrqjxfe2lkCPSK8fZ5NbyRgpIPC16g__&Key-Pair-Id=KCD77M1F0VK2B\n",
            "Reusing existing connection to cdn-lfs-us-1.huggingface.co:443.\n",
            "HTTP request sent, awaiting response... 416 Requested Range Not Satisfiable\n",
            "\n",
            "    The file is already fully retrieved; nothing to do.\n",
            "\n",
            "--2024-01-06 16:33:13--  https://huggingface.co/yutaakiyama/inswapper_128.onnx/resolve/main/GFPGANv1.4.pth\n",
            "Resolving huggingface.co (huggingface.co)... 18.172.134.24, 18.172.134.4, 18.172.134.124, ...\n",
            "Connecting to huggingface.co (huggingface.co)|18.172.134.24|:443... connected.\n",
            "HTTP request sent, awaiting response... 302 Found\n",
            "Location: https://cdn-lfs-us-1.huggingface.co/repos/75/f4/75f48ae56a41f428fddfe65487b97dbe1ad8436c8c4132ce4b5548751f2a07da/e2cd4703ab14f4d01fd1383a8a8b266f9a5833dacee8e6a79d3bf21a1b6be5ad?response-content-disposition=attachment%3B+filename*%3DUTF-8%27%27GFPGANv1.4.pth%3B+filename%3D%22GFPGANv1.4.pth%22%3B&Expires=1704817993&Policy=eyJTdGF0ZW1lbnQiOlt7IkNvbmRpdGlvbiI6eyJEYXRlTGVzc1RoYW4iOnsiQVdTOkVwb2NoVGltZSI6MTcwNDgxNzk5M319LCJSZXNvdXJjZSI6Imh0dHBzOi8vY2RuLWxmcy11cy0xLmh1Z2dpbmdmYWNlLmNvL3JlcG9zLzc1L2Y0Lzc1ZjQ4YWU1NmE0MWY0MjhmZGRmZTY1NDg3Yjk3ZGJlMWFkODQzNmM4YzQxMzJjZTRiNTU0ODc1MWYyYTA3ZGEvZTJjZDQ3MDNhYjE0ZjRkMDFmZDEzODNhOGE4YjI2NmY5YTU4MzNkYWNlZThlNmE3OWQzYmYyMWExYjZiZTVhZD9yZXNwb25zZS1jb250ZW50LWRpc3Bvc2l0aW9uPSoifV19&Signature=REMofbp5PQENlM5CZhS3iMCKD5BU34se9R%7E-W2p1hurdFYB9O7Vu-c9m1WAW7YxqHY2McfPhOuIoInZ8whjytO%7ENRbTzEhQF2acDdfin6bLOlvvMukWTdKmjGWNHdN4O5DnAnZGQhlYMGqlIRyc00pgoWgfrgVwn9qMxJ3TOMuODiFEyK8unKbXPc3J8qa0-1e4u2pVC1uz-zDfTQ7ttbmj2uIVppKf5fRVPa9iqk1RSohvUEITmIsZqR8oJP7o4ekSwWBcLYcwycZRvboUvwybG6%7Et443lOuGSAgtGLm2G5FlM3%7E2UDPtBY%7EixnTYoLL7OUkUpynI8oPydvsX1zyw__&Key-Pair-Id=KCD77M1F0VK2B [following]\n",
            "--2024-01-06 16:33:13--  https://cdn-lfs-us-1.huggingface.co/repos/75/f4/75f48ae56a41f428fddfe65487b97dbe1ad8436c8c4132ce4b5548751f2a07da/e2cd4703ab14f4d01fd1383a8a8b266f9a5833dacee8e6a79d3bf21a1b6be5ad?response-content-disposition=attachment%3B+filename*%3DUTF-8%27%27GFPGANv1.4.pth%3B+filename%3D%22GFPGANv1.4.pth%22%3B&Expires=1704817993&Policy=eyJTdGF0ZW1lbnQiOlt7IkNvbmRpdGlvbiI6eyJEYXRlTGVzc1RoYW4iOnsiQVdTOkVwb2NoVGltZSI6MTcwNDgxNzk5M319LCJSZXNvdXJjZSI6Imh0dHBzOi8vY2RuLWxmcy11cy0xLmh1Z2dpbmdmYWNlLmNvL3JlcG9zLzc1L2Y0Lzc1ZjQ4YWU1NmE0MWY0MjhmZGRmZTY1NDg3Yjk3ZGJlMWFkODQzNmM4YzQxMzJjZTRiNTU0ODc1MWYyYTA3ZGEvZTJjZDQ3MDNhYjE0ZjRkMDFmZDEzODNhOGE4YjI2NmY5YTU4MzNkYWNlZThlNmE3OWQzYmYyMWExYjZiZTVhZD9yZXNwb25zZS1jb250ZW50LWRpc3Bvc2l0aW9uPSoifV19&Signature=REMofbp5PQENlM5CZhS3iMCKD5BU34se9R%7E-W2p1hurdFYB9O7Vu-c9m1WAW7YxqHY2McfPhOuIoInZ8whjytO%7ENRbTzEhQF2acDdfin6bLOlvvMukWTdKmjGWNHdN4O5DnAnZGQhlYMGqlIRyc00pgoWgfrgVwn9qMxJ3TOMuODiFEyK8unKbXPc3J8qa0-1e4u2pVC1uz-zDfTQ7ttbmj2uIVppKf5fRVPa9iqk1RSohvUEITmIsZqR8oJP7o4ekSwWBcLYcwycZRvboUvwybG6%7Et443lOuGSAgtGLm2G5FlM3%7E2UDPtBY%7EixnTYoLL7OUkUpynI8oPydvsX1zyw__&Key-Pair-Id=KCD77M1F0VK2B\n",
            "Resolving cdn-lfs-us-1.huggingface.co (cdn-lfs-us-1.huggingface.co)... 108.156.107.29, 108.156.107.44, 108.156.107.49, ...\n",
            "Connecting to cdn-lfs-us-1.huggingface.co (cdn-lfs-us-1.huggingface.co)|108.156.107.29|:443... connected.\n",
            "HTTP request sent, awaiting response... 200 OK\n",
            "Length: 348632874 (332M) [binary/octet-stream]\n",
            "--2024-01-06 16:33:13--  https://cdn-lfs-us-1.huggingface.co/repos/75/f4/75f48ae56a41f428fddfe65487b97dbe1ad8436c8c4132ce4b5548751f2a07da/e2cd4703ab14f4d01fd1383a8a8b266f9a5833dacee8e6a79d3bf21a1b6be5ad?response-content-disposition=attachment%3B+filename*%3DUTF-8%27%27GFPGANv1.4.pth%3B+filename%3D%22GFPGANv1.4.pth%22%3B&Expires=1704817993&Policy=eyJTdGF0ZW1lbnQiOlt7IkNvbmRpdGlvbiI6eyJEYXRlTGVzc1RoYW4iOnsiQVdTOkVwb2NoVGltZSI6MTcwNDgxNzk5M319LCJSZXNvdXJjZSI6Imh0dHBzOi8vY2RuLWxmcy11cy0xLmh1Z2dpbmdmYWNlLmNvL3JlcG9zLzc1L2Y0Lzc1ZjQ4YWU1NmE0MWY0MjhmZGRmZTY1NDg3Yjk3ZGJlMWFkODQzNmM4YzQxMzJjZTRiNTU0ODc1MWYyYTA3ZGEvZTJjZDQ3MDNhYjE0ZjRkMDFmZDEzODNhOGE4YjI2NmY5YTU4MzNkYWNlZThlNmE3OWQzYmYyMWExYjZiZTVhZD9yZXNwb25zZS1jb250ZW50LWRpc3Bvc2l0aW9uPSoifV19&Signature=REMofbp5PQENlM5CZhS3iMCKD5BU34se9R%7E-W2p1hurdFYB9O7Vu-c9m1WAW7YxqHY2McfPhOuIoInZ8whjytO%7ENRbTzEhQF2acDdfin6bLOlvvMukWTdKmjGWNHdN4O5DnAnZGQhlYMGqlIRyc00pgoWgfrgVwn9qMxJ3TOMuODiFEyK8unKbXPc3J8qa0-1e4u2pVC1uz-zDfTQ7ttbmj2uIVppKf5fRVPa9iqk1RSohvUEITmIsZqR8oJP7o4ekSwWBcLYcwycZRvboUvwybG6%7Et443lOuGSAgtGLm2G5FlM3%7E2UDPtBY%7EixnTYoLL7OUkUpynI8oPydvsX1zyw__&Key-Pair-Id=KCD77M1F0VK2B\n",
            "Reusing existing connection to cdn-lfs-us-1.huggingface.co:443.\n",
            "HTTP request sent, awaiting response... 416 Requested Range Not Satisfiable\n",
            "\n",
            "    The file is already fully retrieved; nothing to do.\n",
            "\n"
          ]
        }
      ]
    },
    {
      "cell_type": "markdown",
      "metadata": {
        "id": "McO5R_O8JlrE"
      },
      "source": [
        "#GPU support"
      ]
    },
    {
      "cell_type": "code",
      "execution_count": null,
      "metadata": {
        "id": "gKrwR2oEFkuC",
        "outputId": "9e5dcedc-e40a-4f65-9535-4bef3eb9175f",
        "colab": {
          "base_uri": "https://localhost:8080/",
          "height": 1000
        }
      },
      "outputs": [
        {
          "output_type": "stream",
          "name": "stdout",
          "text": [
            "\u001b[33mWARNING: Skipping onnxruntime as it is not installed.\u001b[0m\u001b[33m\n",
            "\u001b[0mFound existing installation: onnxruntime-gpu 1.15.1\n",
            "Uninstalling onnxruntime-gpu-1.15.1:\n",
            "  Successfully uninstalled onnxruntime-gpu-1.15.1\n",
            "Looking in indexes: https://download.pytorch.org/whl/cu118\n",
            "Collecting torch\n",
            "  Downloading https://download.pytorch.org/whl/cu118/torch-2.0.1%2Bcu118-cp310-cp310-linux_x86_64.whl (2267.3 MB)\n",
            "\u001b[2K     \u001b[90m━━━━━━━━━━━━━━━━━━━━━━━━━━━━━━━━━━━━━━━━\u001b[0m \u001b[32m2.3/2.3 GB\u001b[0m \u001b[31m436.6 kB/s\u001b[0m eta \u001b[36m0:00:00\u001b[0m\n",
            "\u001b[?25hCollecting torchvision\n",
            "  Downloading https://download.pytorch.org/whl/cu118/torchvision-0.15.2%2Bcu118-cp310-cp310-linux_x86_64.whl (6.1 MB)\n",
            "\u001b[2K     \u001b[90m━━━━━━━━━━━━━━━━━━━━━━━━━━━━━━━━━━━━━━━━\u001b[0m \u001b[32m6.1/6.1 MB\u001b[0m \u001b[31m103.7 MB/s\u001b[0m eta \u001b[36m0:00:00\u001b[0m\n",
            "\u001b[?25hCollecting torchaudio\n",
            "  Downloading https://download.pytorch.org/whl/cu118/torchaudio-2.0.2%2Bcu118-cp310-cp310-linux_x86_64.whl (4.4 MB)\n",
            "\u001b[2K     \u001b[90m━━━━━━━━━━━━━━━━━━━━━━━━━━━━━━━━━━━━━━━━\u001b[0m \u001b[32m4.4/4.4 MB\u001b[0m \u001b[31m100.9 MB/s\u001b[0m eta \u001b[36m0:00:00\u001b[0m\n",
            "\u001b[?25hCollecting filelock (from torch)\n",
            "  Downloading https://download.pytorch.org/whl/filelock-3.9.0-py3-none-any.whl (9.7 kB)\n",
            "Collecting typing-extensions (from torch)\n",
            "  Downloading https://download.pytorch.org/whl/typing_extensions-4.4.0-py3-none-any.whl (26 kB)\n",
            "Collecting sympy (from torch)\n",
            "  Downloading https://download.pytorch.org/whl/sympy-1.11.1-py3-none-any.whl (6.5 MB)\n",
            "\u001b[2K     \u001b[90m━━━━━━━━━━━━━━━━━━━━━━━━━━━━━━━━━━━━━━━━\u001b[0m \u001b[32m6.5/6.5 MB\u001b[0m \u001b[31m108.5 MB/s\u001b[0m eta \u001b[36m0:00:00\u001b[0m\n",
            "\u001b[?25hCollecting networkx (from torch)\n",
            "  Downloading https://download.pytorch.org/whl/networkx-3.0-py3-none-any.whl (2.0 MB)\n",
            "\u001b[2K     \u001b[90m━━━━━━━━━━━━━━━━━━━━━━━━━━━━━━━━━━━━━━━━\u001b[0m \u001b[32m2.0/2.0 MB\u001b[0m \u001b[31m97.4 MB/s\u001b[0m eta \u001b[36m0:00:00\u001b[0m\n",
            "\u001b[?25hCollecting jinja2 (from torch)\n",
            "  Downloading https://download.pytorch.org/whl/Jinja2-3.1.2-py3-none-any.whl (133 kB)\n",
            "\u001b[2K     \u001b[90m━━━━━━━━━━━━━━━━━━━━━━━━━━━━━━━━━━━━━━\u001b[0m \u001b[32m133.1/133.1 kB\u001b[0m \u001b[31m19.4 MB/s\u001b[0m eta \u001b[36m0:00:00\u001b[0m\n",
            "\u001b[?25hCollecting triton==2.0.0 (from torch)\n",
            "  Downloading https://download.pytorch.org/whl/triton-2.0.0-1-cp310-cp310-manylinux2014_x86_64.manylinux_2_17_x86_64.whl (63.3 MB)\n",
            "\u001b[2K     \u001b[90m━━━━━━━━━━━━━━━━━━━━━━━━━━━━━━━━━━━━━━━━\u001b[0m \u001b[32m63.3/63.3 MB\u001b[0m \u001b[31m10.2 MB/s\u001b[0m eta \u001b[36m0:00:00\u001b[0m\n",
            "\u001b[?25hCollecting cmake (from triton==2.0.0->torch)\n",
            "  Downloading https://download.pytorch.org/whl/cmake-3.25.0-py2.py3-none-manylinux_2_17_x86_64.manylinux2014_x86_64.whl (23.7 MB)\n",
            "\u001b[2K     \u001b[90m━━━━━━━━━━━━━━━━━━━━━━━━━━━━━━━━━━━━━━━━\u001b[0m \u001b[32m23.7/23.7 MB\u001b[0m \u001b[31m70.1 MB/s\u001b[0m eta \u001b[36m0:00:00\u001b[0m\n",
            "\u001b[?25hCollecting lit (from triton==2.0.0->torch)\n",
            "  Downloading https://download.pytorch.org/whl/lit-15.0.7.tar.gz (132 kB)\n",
            "\u001b[2K     \u001b[90m━━━━━━━━━━━━━━━━━━━━━━━━━━━━━━━━━━━━━━\u001b[0m \u001b[32m132.3/132.3 kB\u001b[0m \u001b[31m19.0 MB/s\u001b[0m eta \u001b[36m0:00:00\u001b[0m\n",
            "\u001b[?25h  Preparing metadata (setup.py) ... \u001b[?25l\u001b[?25hdone\n",
            "Collecting numpy (from torchvision)\n",
            "  Downloading https://download.pytorch.org/whl/numpy-1.24.1-cp310-cp310-manylinux_2_17_x86_64.manylinux2014_x86_64.whl (17.3 MB)\n",
            "\u001b[2K     \u001b[90m━━━━━━━━━━━━━━━━━━━━━━━━━━━━━━━━━━━━━━━━\u001b[0m \u001b[32m17.3/17.3 MB\u001b[0m \u001b[31m87.4 MB/s\u001b[0m eta \u001b[36m0:00:00\u001b[0m\n",
            "\u001b[?25hCollecting requests (from torchvision)\n",
            "  Downloading https://download.pytorch.org/whl/requests-2.28.1-py3-none-any.whl (62 kB)\n",
            "\u001b[2K     \u001b[90m━━━━━━━━━━━━━━━━━━━━━━━━━━━━━━━━━━━━━━━━\u001b[0m \u001b[32m62.8/62.8 kB\u001b[0m \u001b[31m9.4 MB/s\u001b[0m eta \u001b[36m0:00:00\u001b[0m\n",
            "\u001b[?25hCollecting pillow!=8.3.*,>=5.3.0 (from torchvision)\n",
            "  Downloading https://download.pytorch.org/whl/Pillow-9.3.0-cp310-cp310-manylinux_2_17_x86_64.manylinux2014_x86_64.whl (3.2 MB)\n",
            "\u001b[2K     \u001b[90m━━━━━━━━━━━━━━━━━━━━━━━━━━━━━━━━━━━━━━━━\u001b[0m \u001b[32m3.2/3.2 MB\u001b[0m \u001b[31m99.4 MB/s\u001b[0m eta \u001b[36m0:00:00\u001b[0m\n",
            "\u001b[?25hCollecting MarkupSafe>=2.0 (from jinja2->torch)\n",
            "  Downloading https://download.pytorch.org/whl/MarkupSafe-2.1.2-cp310-cp310-manylinux_2_17_x86_64.manylinux2014_x86_64.whl (25 kB)\n",
            "Collecting charset-normalizer<3,>=2 (from requests->torchvision)\n",
            "  Downloading https://download.pytorch.org/whl/charset_normalizer-2.1.1-py3-none-any.whl (39 kB)\n",
            "Collecting idna<4,>=2.5 (from requests->torchvision)\n",
            "  Downloading https://download.pytorch.org/whl/idna-3.4-py3-none-any.whl (61 kB)\n",
            "\u001b[2K     \u001b[90m━━━━━━━━━━━━━━━━━━━━━━━━━━━━━━━━━━━━━━━━\u001b[0m \u001b[32m61.5/61.5 kB\u001b[0m \u001b[31m5.8 MB/s\u001b[0m eta \u001b[36m0:00:00\u001b[0m\n",
            "\u001b[?25hCollecting urllib3<1.27,>=1.21.1 (from requests->torchvision)\n",
            "  Downloading https://download.pytorch.org/whl/urllib3-1.26.13-py2.py3-none-any.whl (140 kB)\n",
            "\u001b[2K     \u001b[90m━━━━━━━━━━━━━━━━━━━━━━━━━━━━━━━━━━━━━━\u001b[0m \u001b[32m140.6/140.6 kB\u001b[0m \u001b[31m16.8 MB/s\u001b[0m eta \u001b[36m0:00:00\u001b[0m\n",
            "\u001b[?25hCollecting certifi>=2017.4.17 (from requests->torchvision)\n",
            "  Downloading https://download.pytorch.org/whl/certifi-2022.12.7-py3-none-any.whl (155 kB)\n",
            "\u001b[2K     \u001b[90m━━━━━━━━━━━━━━━━━━━━━━━━━━━━━━━━━━━━━━\u001b[0m \u001b[32m155.3/155.3 kB\u001b[0m \u001b[31m13.2 MB/s\u001b[0m eta \u001b[36m0:00:00\u001b[0m\n",
            "\u001b[?25hCollecting mpmath>=0.19 (from sympy->torch)\n",
            "  Downloading https://download.pytorch.org/whl/mpmath-1.2.1-py3-none-any.whl (532 kB)\n",
            "\u001b[2K     \u001b[90m━━━━━━━━━━━━━━━━━━━━━━━━━━━━━━━━━━━━━━\u001b[0m \u001b[32m532.6/532.6 kB\u001b[0m \u001b[31m35.4 MB/s\u001b[0m eta \u001b[36m0:00:00\u001b[0m\n",
            "\u001b[?25hBuilding wheels for collected packages: lit\n",
            "  Building wheel for lit (setup.py) ... \u001b[?25l\u001b[?25hdone\n",
            "  Created wheel for lit: filename=lit-15.0.7-py3-none-any.whl size=89989 sha256=88531cb8e0da26f674c26b2f14338cd3435d2f3b932e63d63ce1c009a5e806bf\n",
            "  Stored in directory: /root/.cache/pip/wheels/bf/62/0d/01218f13f6a8051e982a7ce31d12b7bfd725dc69bd227ae104\n",
            "Successfully built lit\n",
            "Installing collected packages: mpmath, lit, cmake, urllib3, typing-extensions, sympy, pillow, numpy, networkx, MarkupSafe, idna, filelock, charset-normalizer, certifi, requests, jinja2, triton, torch, torchvision, torchaudio\n",
            "  Attempting uninstall: mpmath\n",
            "    Found existing installation: mpmath 1.3.0\n",
            "    Uninstalling mpmath-1.3.0:\n",
            "      Successfully uninstalled mpmath-1.3.0\n",
            "  Attempting uninstall: lit\n",
            "    Found existing installation: lit 16.0.6\n",
            "    Uninstalling lit-16.0.6:\n",
            "      Successfully uninstalled lit-16.0.6\n",
            "  Attempting uninstall: cmake\n",
            "    Found existing installation: cmake 3.27.2\n",
            "    Uninstalling cmake-3.27.2:\n",
            "      Successfully uninstalled cmake-3.27.2\n",
            "  Attempting uninstall: urllib3\n",
            "    Found existing installation: urllib3 2.0.4\n",
            "    Uninstalling urllib3-2.0.4:\n",
            "      Successfully uninstalled urllib3-2.0.4\n",
            "  Attempting uninstall: typing-extensions\n",
            "    Found existing installation: typing_extensions 4.5.0\n",
            "    Uninstalling typing_extensions-4.5.0:\n",
            "      Successfully uninstalled typing_extensions-4.5.0\n",
            "  Attempting uninstall: sympy\n",
            "    Found existing installation: sympy 1.12\n",
            "    Uninstalling sympy-1.12:\n",
            "      Successfully uninstalled sympy-1.12\n",
            "  Attempting uninstall: pillow\n",
            "    Found existing installation: Pillow 10.0.0\n",
            "    Uninstalling Pillow-10.0.0:\n",
            "      Successfully uninstalled Pillow-10.0.0\n",
            "  Attempting uninstall: numpy\n",
            "    Found existing installation: numpy 1.24.3\n",
            "    Uninstalling numpy-1.24.3:\n",
            "      Successfully uninstalled numpy-1.24.3\n",
            "  Attempting uninstall: networkx\n",
            "    Found existing installation: networkx 3.1\n",
            "    Uninstalling networkx-3.1:\n",
            "      Successfully uninstalled networkx-3.1\n",
            "  Attempting uninstall: MarkupSafe\n",
            "    Found existing installation: MarkupSafe 2.1.3\n",
            "    Uninstalling MarkupSafe-2.1.3:\n",
            "      Successfully uninstalled MarkupSafe-2.1.3\n",
            "  Attempting uninstall: idna\n",
            "    Found existing installation: idna 3.4\n",
            "    Uninstalling idna-3.4:\n",
            "      Successfully uninstalled idna-3.4\n",
            "  Attempting uninstall: filelock\n",
            "    Found existing installation: filelock 3.12.2\n",
            "    Uninstalling filelock-3.12.2:\n",
            "      Successfully uninstalled filelock-3.12.2\n",
            "  Attempting uninstall: charset-normalizer\n",
            "    Found existing installation: charset-normalizer 3.2.0\n",
            "    Uninstalling charset-normalizer-3.2.0:\n",
            "      Successfully uninstalled charset-normalizer-3.2.0\n",
            "  Attempting uninstall: certifi\n",
            "    Found existing installation: certifi 2023.7.22\n",
            "    Uninstalling certifi-2023.7.22:\n",
            "      Successfully uninstalled certifi-2023.7.22\n",
            "  Attempting uninstall: requests\n",
            "    Found existing installation: requests 2.31.0\n",
            "    Uninstalling requests-2.31.0:\n",
            "      Successfully uninstalled requests-2.31.0\n",
            "  Attempting uninstall: jinja2\n",
            "    Found existing installation: Jinja2 3.1.2\n",
            "    Uninstalling Jinja2-3.1.2:\n",
            "      Successfully uninstalled Jinja2-3.1.2\n",
            "  Attempting uninstall: triton\n",
            "    Found existing installation: triton 2.0.0\n",
            "    Uninstalling triton-2.0.0:\n",
            "      Successfully uninstalled triton-2.0.0\n",
            "  Attempting uninstall: torch\n",
            "    Found existing installation: torch 2.0.1+cu118\n",
            "    Uninstalling torch-2.0.1+cu118:\n",
            "      Successfully uninstalled torch-2.0.1+cu118\n",
            "  Attempting uninstall: torchvision\n",
            "    Found existing installation: torchvision 0.15.2+cu118\n",
            "    Uninstalling torchvision-0.15.2+cu118:\n",
            "      Successfully uninstalled torchvision-0.15.2+cu118\n",
            "  Attempting uninstall: torchaudio\n",
            "    Found existing installation: torchaudio 2.0.2+cu118\n",
            "    Uninstalling torchaudio-2.0.2+cu118:\n",
            "      Successfully uninstalled torchaudio-2.0.2+cu118\n",
            "\u001b[31mERROR: pip's dependency resolver does not currently take into account all the packages that are installed. This behaviour is the source of the following dependency conflicts.\n",
            "google-colab 1.0.0 requires requests==2.31.0, but you have requests 2.28.1 which is incompatible.\n",
            "pydantic 2.2.1 requires typing-extensions>=4.6.1, but you have typing-extensions 4.4.0 which is incompatible.\n",
            "pydantic-core 2.6.1 requires typing-extensions!=4.7.0,>=4.6.0, but you have typing-extensions 4.4.0 which is incompatible.\n",
            "yfinance 0.2.28 requires requests>=2.31, but you have requests 2.28.1 which is incompatible.\u001b[0m\u001b[31m\n",
            "\u001b[0mSuccessfully installed MarkupSafe-2.1.2 certifi-2022.12.7 charset-normalizer-2.1.1 cmake-3.25.0 filelock-3.9.0 idna-3.4 jinja2-3.1.2 lit-15.0.7 mpmath-1.2.1 networkx-3.0 numpy-1.24.1 pillow-9.3.0 requests-2.28.1 sympy-1.11.1 torch-2.0.1+cu118 torchaudio-2.0.2+cu118 torchvision-0.15.2+cu118 triton-2.0.0 typing-extensions-4.4.0 urllib3-1.26.13\n"
          ]
        },
        {
          "output_type": "display_data",
          "data": {
            "application/vnd.colab-display-data+json": {
              "pip_warning": {
                "packages": [
                  "PIL",
                  "certifi",
                  "numpy"
                ]
              }
            }
          },
          "metadata": {}
        },
        {
          "output_type": "stream",
          "name": "stdout",
          "text": [
            "Collecting onnxruntime-gpu\n",
            "  Using cached onnxruntime_gpu-1.15.1-cp310-cp310-manylinux_2_17_x86_64.manylinux2014_x86_64.whl (121.6 MB)\n",
            "Requirement already satisfied: coloredlogs in /usr/local/lib/python3.10/dist-packages (from onnxruntime-gpu) (15.0.1)\n",
            "Requirement already satisfied: flatbuffers in /usr/local/lib/python3.10/dist-packages (from onnxruntime-gpu) (23.5.26)\n",
            "Requirement already satisfied: numpy>=1.21.6 in /usr/local/lib/python3.10/dist-packages (from onnxruntime-gpu) (1.24.1)\n",
            "Requirement already satisfied: packaging in /usr/local/lib/python3.10/dist-packages (from onnxruntime-gpu) (23.1)\n",
            "Requirement already satisfied: protobuf in /usr/local/lib/python3.10/dist-packages (from onnxruntime-gpu) (4.23.4)\n",
            "Requirement already satisfied: sympy in /usr/local/lib/python3.10/dist-packages (from onnxruntime-gpu) (1.11.1)\n",
            "Requirement already satisfied: humanfriendly>=9.1 in /usr/local/lib/python3.10/dist-packages (from coloredlogs->onnxruntime-gpu) (10.0)\n",
            "Requirement already satisfied: mpmath>=0.19 in /usr/local/lib/python3.10/dist-packages (from sympy->onnxruntime-gpu) (1.2.1)\n",
            "Installing collected packages: onnxruntime-gpu\n",
            "Successfully installed onnxruntime-gpu-1.15.1\n"
          ]
        }
      ],
      "source": [
        "!pip uninstall onnxruntime onnxruntime-gpu -y\n",
        "!pip install torch torchvision torchaudio --force-reinstall --index-url https://download.pytorch.org/whl/cu118\n",
        "!pip install onnxruntime-gpu"
      ]
    },
    {
      "cell_type": "markdown",
      "metadata": {
        "id": "nCKli1C-_EaO"
      },
      "source": [
        "#顔交換処理"
      ]
    },
    {
      "cell_type": "code",
      "execution_count": 13,
      "metadata": {
        "id": "lDYdfL3L71i1",
        "outputId": "96211d0b-4ec0-4469-dadd-be8c49a18acc",
        "colab": {
          "base_uri": "https://localhost:8080/"
        }
      },
      "outputs": [
        {
          "output_type": "stream",
          "name": "stdout",
          "text": [
            "Applied providers: ['CPUExecutionProvider'], with options: {'CPUExecutionProvider': {}}\n",
            "find model: /root/.insightface/models/buffalo_l/1k3d68.onnx landmark_3d_68 ['None', 3, 192, 192] 0.0 1.0\n",
            "Applied providers: ['CPUExecutionProvider'], with options: {'CPUExecutionProvider': {}}\n",
            "find model: /root/.insightface/models/buffalo_l/2d106det.onnx landmark_2d_106 ['None', 3, 192, 192] 0.0 1.0\n",
            "Applied providers: ['CPUExecutionProvider'], with options: {'CPUExecutionProvider': {}}\n",
            "find model: /root/.insightface/models/buffalo_l/det_10g.onnx detection [1, 3, '?', '?'] 127.5 128.0\n",
            "Applied providers: ['CPUExecutionProvider'], with options: {'CPUExecutionProvider': {}}\n",
            "find model: /root/.insightface/models/buffalo_l/genderage.onnx genderage ['None', 3, 96, 96] 0.0 1.0\n",
            "Applied providers: ['CPUExecutionProvider'], with options: {'CPUExecutionProvider': {}}\n",
            "find model: /root/.insightface/models/buffalo_l/w600k_r50.onnx recognition ['None', 3, 112, 112] 127.5 127.5\n",
            "set det-size: (640, 640)\n",
            "[REACTOR.FACE-SWAPPER] Progressing...\n",
            "Applied providers: ['CPUExecutionProvider'], with options: {'CPUExecutionProvider': {}}\n",
            "inswapper-shape: [1, 3, 128, 128]\n",
            "[REACTOR.FACE-ENHANCER] Progressing...\n",
            "[REACTOR.CORE] Processing to image succeed!\n"
          ]
        }
      ],
      "source": [
        "import datetime\n",
        "\n",
        "# 現在の日付と時間を取得\n",
        "current_time = datetime.datetime.now()\n",
        "file_name = current_time.strftime(\"%Y%m%d%H%M%S\")\n",
        "\n",
        "target = \"ai_bijo.png\" #@param {type:\"string\"}\n",
        "source = \"hotlimit.png\" #@param {type:\"string\"}\n",
        "extension = \"\"\n",
        "\n",
        "INPUT_PATH = f\"/content/drive/MyDrive/faceswap/inputs/target/{target}\"\n",
        "SOURCE_PATH = f\"/content/drive/MyDrive/faceswap/inputs/source/{source}\"\n",
        "\n",
        "if INPUT_PATH.lower().endswith(\".mp4\"):\n",
        "    extension = \".mp4\"\n",
        "elif INPUT_PATH.lower().endswith(\".mkv\"):\n",
        "    extension = \".mp4\"\n",
        "else:\n",
        "    extension = \".png\"\n",
        "\n",
        "OUTPUT_PATH = f\"outputs/{file_name}{extension}\"\n",
        "\n",
        "!python run.py --target $INPUT_PATH --source $SOURCE_PATH -o $OUTPUT_PATH --execution-provider cuda --frame-processor face_swapper face_enhancer"
      ]
    }
  ],
  "metadata": {
    "accelerator": "GPU",
    "colab": {
      "provenance": [],
      "include_colab_link": true
    },
    "kernelspec": {
      "display_name": "Python 3",
      "name": "python3"
    },
    "language_info": {
      "name": "python"
    }
  },
  "nbformat": 4,
  "nbformat_minor": 0
}